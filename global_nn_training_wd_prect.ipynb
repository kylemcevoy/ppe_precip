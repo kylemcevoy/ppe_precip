{
 "cells": [
  {
   "cell_type": "code",
   "execution_count": 1,
   "id": "7bf4fdc8-33fd-4da5-8723-9c2bc029f48c",
   "metadata": {},
   "outputs": [],
   "source": [
    "import torch\n",
    "from torch import nn\n",
    "from torch.utils.data import DataLoader, TensorDataset\n",
    "import torch.optim as optim\n",
    "from torch.utils.data import Dataset\n",
    "\n",
    "import pandas as pd\n",
    "import matplotlib.pyplot as plt\n",
    "import gcsfs\n",
    "import numpy as np\n",
    "import xarray as xr"
   ]
  },
  {
   "cell_type": "code",
   "execution_count": 2,
   "id": "8f750102-ed79-4f9b-8628-28f6aabac4ec",
   "metadata": {},
   "outputs": [],
   "source": [
    "gen = np.random.default_rng(85315)"
   ]
  },
  {
   "cell_type": "code",
   "execution_count": 3,
   "id": "b0f6c86a-a437-43e7-9f73-df98b324f6b6",
   "metadata": {},
   "outputs": [],
   "source": [
    "perm = gen.permutation(262)\n",
    "ens = np.array(perm)\n",
    "ens[np.where(perm >= 175)] = ens[np.where(perm >= 175)] + 1\n",
    "\n",
    "train_indx = perm[0:210]\n",
    "test_indx = perm[210: ]\n",
    "\n",
    "train_ens = ens[0:210]\n",
    "test_ens = ens[210: ]"
   ]
  },
  {
   "cell_type": "code",
   "execution_count": 4,
   "id": "55a4a9f4-6a49-4726-9f9a-8e089f6863c2",
   "metadata": {},
   "outputs": [
    {
     "data": {
      "text/plain": [
       "<torch._C.Generator at 0x7fcc258ed7f0>"
      ]
     },
     "execution_count": 4,
     "metadata": {},
     "output_type": "execute_result"
    }
   ],
   "source": [
    "torch.manual_seed(423451)"
   ]
  },
  {
   "cell_type": "code",
   "execution_count": 5,
   "id": "20844b09-fb7c-46a6-925c-a4a7bf9d21e0",
   "metadata": {},
   "outputs": [],
   "source": [
    "fs = gcsfs.GCSFileSystem()"
   ]
  },
  {
   "cell_type": "code",
   "execution_count": 6,
   "id": "ef220b17-fd80-4d18-ad57-f7cafa19c3b6",
   "metadata": {},
   "outputs": [],
   "source": [
    "param_xr = xr.open_dataset('parameter_262_w_control.nc')"
   ]
  },
  {
   "cell_type": "code",
   "execution_count": 7,
   "id": "148962be-bb83-4f0e-8aab-e43df9d10188",
   "metadata": {},
   "outputs": [],
   "source": [
    "param_df = param_xr.to_pandas()\n",
    "param_df = param_df.drop('Sample_nmb', axis=1).drop(175, axis=0)"
   ]
  },
  {
   "cell_type": "code",
   "execution_count": 8,
   "id": "c77d416e-7ae9-46a3-b778-2820def3fc59",
   "metadata": {},
   "outputs": [],
   "source": [
    "param_df = (param_df - param_df.min()) / (param_df.max() - param_df.min())"
   ]
  },
  {
   "cell_type": "code",
   "execution_count": 9,
   "id": "3ad1d5f7-18ba-4624-b119-838df5d5970a",
   "metadata": {},
   "outputs": [
    {
     "data": {
      "text/plain": [
       "0        0\n",
       "1        1\n",
       "2        2\n",
       "3        3\n",
       "4        4\n",
       "      ... \n",
       "257    258\n",
       "258    259\n",
       "259    260\n",
       "260    261\n",
       "261    262\n",
       "Name: nmb_sim, Length: 262, dtype: int64"
      ]
     },
     "execution_count": 9,
     "metadata": {},
     "output_type": "execute_result"
    }
   ],
   "source": [
    "param_df.reset_index()['nmb_sim']"
   ]
  },
  {
   "cell_type": "code",
   "execution_count": 10,
   "id": "a24b1081-2ede-4420-a328-4a2e5183ddf8",
   "metadata": {},
   "outputs": [],
   "source": [
    "glob_mean_precl = xr.open_dataset('glob_mean_precl.nc')\n",
    "glob_mean_precc = xr.open_dataset('glob_mean_precc.nc')"
   ]
  },
  {
   "cell_type": "code",
   "execution_count": 11,
   "id": "f91785e7-83d2-4dfa-a724-4a1c2c56eafb",
   "metadata": {},
   "outputs": [],
   "source": [
    "glob_mean_prect = glob_mean_precc['PRECC'] + glob_mean_precl['PRECL']"
   ]
  },
  {
   "cell_type": "code",
   "execution_count": 12,
   "id": "fe42ce04-7143-4fa7-95e3-368b6f326935",
   "metadata": {},
   "outputs": [
    {
     "data": {
      "text/html": [
       "<div><svg style=\"position: absolute; width: 0; height: 0; overflow: hidden\">\n",
       "<defs>\n",
       "<symbol id=\"icon-database\" viewBox=\"0 0 32 32\">\n",
       "<path d=\"M16 0c-8.837 0-16 2.239-16 5v4c0 2.761 7.163 5 16 5s16-2.239 16-5v-4c0-2.761-7.163-5-16-5z\"></path>\n",
       "<path d=\"M16 17c-8.837 0-16-2.239-16-5v6c0 2.761 7.163 5 16 5s16-2.239 16-5v-6c0 2.761-7.163 5-16 5z\"></path>\n",
       "<path d=\"M16 26c-8.837 0-16-2.239-16-5v6c0 2.761 7.163 5 16 5s16-2.239 16-5v-6c0 2.761-7.163 5-16 5z\"></path>\n",
       "</symbol>\n",
       "<symbol id=\"icon-file-text2\" viewBox=\"0 0 32 32\">\n",
       "<path d=\"M28.681 7.159c-0.694-0.947-1.662-2.053-2.724-3.116s-2.169-2.030-3.116-2.724c-1.612-1.182-2.393-1.319-2.841-1.319h-15.5c-1.378 0-2.5 1.121-2.5 2.5v27c0 1.378 1.122 2.5 2.5 2.5h23c1.378 0 2.5-1.122 2.5-2.5v-19.5c0-0.448-0.137-1.23-1.319-2.841zM24.543 5.457c0.959 0.959 1.712 1.825 2.268 2.543h-4.811v-4.811c0.718 0.556 1.584 1.309 2.543 2.268zM28 29.5c0 0.271-0.229 0.5-0.5 0.5h-23c-0.271 0-0.5-0.229-0.5-0.5v-27c0-0.271 0.229-0.5 0.5-0.5 0 0 15.499-0 15.5 0v7c0 0.552 0.448 1 1 1h7v19.5z\"></path>\n",
       "<path d=\"M23 26h-14c-0.552 0-1-0.448-1-1s0.448-1 1-1h14c0.552 0 1 0.448 1 1s-0.448 1-1 1z\"></path>\n",
       "<path d=\"M23 22h-14c-0.552 0-1-0.448-1-1s0.448-1 1-1h14c0.552 0 1 0.448 1 1s-0.448 1-1 1z\"></path>\n",
       "<path d=\"M23 18h-14c-0.552 0-1-0.448-1-1s0.448-1 1-1h14c0.552 0 1 0.448 1 1s-0.448 1-1 1z\"></path>\n",
       "</symbol>\n",
       "</defs>\n",
       "</svg>\n",
       "<style>/* CSS stylesheet for displaying xarray objects in jupyterlab.\n",
       " *\n",
       " */\n",
       "\n",
       ":root {\n",
       "  --xr-font-color0: var(--jp-content-font-color0, rgba(0, 0, 0, 1));\n",
       "  --xr-font-color2: var(--jp-content-font-color2, rgba(0, 0, 0, 0.54));\n",
       "  --xr-font-color3: var(--jp-content-font-color3, rgba(0, 0, 0, 0.38));\n",
       "  --xr-border-color: var(--jp-border-color2, #e0e0e0);\n",
       "  --xr-disabled-color: var(--jp-layout-color3, #bdbdbd);\n",
       "  --xr-background-color: var(--jp-layout-color0, white);\n",
       "  --xr-background-color-row-even: var(--jp-layout-color1, white);\n",
       "  --xr-background-color-row-odd: var(--jp-layout-color2, #eeeeee);\n",
       "}\n",
       "\n",
       "html[theme=dark],\n",
       "body[data-theme=dark],\n",
       "body.vscode-dark {\n",
       "  --xr-font-color0: rgba(255, 255, 255, 1);\n",
       "  --xr-font-color2: rgba(255, 255, 255, 0.54);\n",
       "  --xr-font-color3: rgba(255, 255, 255, 0.38);\n",
       "  --xr-border-color: #1F1F1F;\n",
       "  --xr-disabled-color: #515151;\n",
       "  --xr-background-color: #111111;\n",
       "  --xr-background-color-row-even: #111111;\n",
       "  --xr-background-color-row-odd: #313131;\n",
       "}\n",
       "\n",
       ".xr-wrap {\n",
       "  display: block !important;\n",
       "  min-width: 300px;\n",
       "  max-width: 700px;\n",
       "}\n",
       "\n",
       ".xr-text-repr-fallback {\n",
       "  /* fallback to plain text repr when CSS is not injected (untrusted notebook) */\n",
       "  display: none;\n",
       "}\n",
       "\n",
       ".xr-header {\n",
       "  padding-top: 6px;\n",
       "  padding-bottom: 6px;\n",
       "  margin-bottom: 4px;\n",
       "  border-bottom: solid 1px var(--xr-border-color);\n",
       "}\n",
       "\n",
       ".xr-header > div,\n",
       ".xr-header > ul {\n",
       "  display: inline;\n",
       "  margin-top: 0;\n",
       "  margin-bottom: 0;\n",
       "}\n",
       "\n",
       ".xr-obj-type,\n",
       ".xr-array-name {\n",
       "  margin-left: 2px;\n",
       "  margin-right: 10px;\n",
       "}\n",
       "\n",
       ".xr-obj-type {\n",
       "  color: var(--xr-font-color2);\n",
       "}\n",
       "\n",
       ".xr-sections {\n",
       "  padding-left: 0 !important;\n",
       "  display: grid;\n",
       "  grid-template-columns: 150px auto auto 1fr 20px 20px;\n",
       "}\n",
       "\n",
       ".xr-section-item {\n",
       "  display: contents;\n",
       "}\n",
       "\n",
       ".xr-section-item input {\n",
       "  display: none;\n",
       "}\n",
       "\n",
       ".xr-section-item input + label {\n",
       "  color: var(--xr-disabled-color);\n",
       "}\n",
       "\n",
       ".xr-section-item input:enabled + label {\n",
       "  cursor: pointer;\n",
       "  color: var(--xr-font-color2);\n",
       "}\n",
       "\n",
       ".xr-section-item input:enabled + label:hover {\n",
       "  color: var(--xr-font-color0);\n",
       "}\n",
       "\n",
       ".xr-section-summary {\n",
       "  grid-column: 1;\n",
       "  color: var(--xr-font-color2);\n",
       "  font-weight: 500;\n",
       "}\n",
       "\n",
       ".xr-section-summary > span {\n",
       "  display: inline-block;\n",
       "  padding-left: 0.5em;\n",
       "}\n",
       "\n",
       ".xr-section-summary-in:disabled + label {\n",
       "  color: var(--xr-font-color2);\n",
       "}\n",
       "\n",
       ".xr-section-summary-in + label:before {\n",
       "  display: inline-block;\n",
       "  content: '►';\n",
       "  font-size: 11px;\n",
       "  width: 15px;\n",
       "  text-align: center;\n",
       "}\n",
       "\n",
       ".xr-section-summary-in:disabled + label:before {\n",
       "  color: var(--xr-disabled-color);\n",
       "}\n",
       "\n",
       ".xr-section-summary-in:checked + label:before {\n",
       "  content: '▼';\n",
       "}\n",
       "\n",
       ".xr-section-summary-in:checked + label > span {\n",
       "  display: none;\n",
       "}\n",
       "\n",
       ".xr-section-summary,\n",
       ".xr-section-inline-details {\n",
       "  padding-top: 4px;\n",
       "  padding-bottom: 4px;\n",
       "}\n",
       "\n",
       ".xr-section-inline-details {\n",
       "  grid-column: 2 / -1;\n",
       "}\n",
       "\n",
       ".xr-section-details {\n",
       "  display: none;\n",
       "  grid-column: 1 / -1;\n",
       "  margin-bottom: 5px;\n",
       "}\n",
       "\n",
       ".xr-section-summary-in:checked ~ .xr-section-details {\n",
       "  display: contents;\n",
       "}\n",
       "\n",
       ".xr-array-wrap {\n",
       "  grid-column: 1 / -1;\n",
       "  display: grid;\n",
       "  grid-template-columns: 20px auto;\n",
       "}\n",
       "\n",
       ".xr-array-wrap > label {\n",
       "  grid-column: 1;\n",
       "  vertical-align: top;\n",
       "}\n",
       "\n",
       ".xr-preview {\n",
       "  color: var(--xr-font-color3);\n",
       "}\n",
       "\n",
       ".xr-array-preview,\n",
       ".xr-array-data {\n",
       "  padding: 0 5px !important;\n",
       "  grid-column: 2;\n",
       "}\n",
       "\n",
       ".xr-array-data,\n",
       ".xr-array-in:checked ~ .xr-array-preview {\n",
       "  display: none;\n",
       "}\n",
       "\n",
       ".xr-array-in:checked ~ .xr-array-data,\n",
       ".xr-array-preview {\n",
       "  display: inline-block;\n",
       "}\n",
       "\n",
       ".xr-dim-list {\n",
       "  display: inline-block !important;\n",
       "  list-style: none;\n",
       "  padding: 0 !important;\n",
       "  margin: 0;\n",
       "}\n",
       "\n",
       ".xr-dim-list li {\n",
       "  display: inline-block;\n",
       "  padding: 0;\n",
       "  margin: 0;\n",
       "}\n",
       "\n",
       ".xr-dim-list:before {\n",
       "  content: '(';\n",
       "}\n",
       "\n",
       ".xr-dim-list:after {\n",
       "  content: ')';\n",
       "}\n",
       "\n",
       ".xr-dim-list li:not(:last-child):after {\n",
       "  content: ',';\n",
       "  padding-right: 5px;\n",
       "}\n",
       "\n",
       ".xr-has-index {\n",
       "  font-weight: bold;\n",
       "}\n",
       "\n",
       ".xr-var-list,\n",
       ".xr-var-item {\n",
       "  display: contents;\n",
       "}\n",
       "\n",
       ".xr-var-item > div,\n",
       ".xr-var-item label,\n",
       ".xr-var-item > .xr-var-name span {\n",
       "  background-color: var(--xr-background-color-row-even);\n",
       "  margin-bottom: 0;\n",
       "}\n",
       "\n",
       ".xr-var-item > .xr-var-name:hover span {\n",
       "  padding-right: 5px;\n",
       "}\n",
       "\n",
       ".xr-var-list > li:nth-child(odd) > div,\n",
       ".xr-var-list > li:nth-child(odd) > label,\n",
       ".xr-var-list > li:nth-child(odd) > .xr-var-name span {\n",
       "  background-color: var(--xr-background-color-row-odd);\n",
       "}\n",
       "\n",
       ".xr-var-name {\n",
       "  grid-column: 1;\n",
       "}\n",
       "\n",
       ".xr-var-dims {\n",
       "  grid-column: 2;\n",
       "}\n",
       "\n",
       ".xr-var-dtype {\n",
       "  grid-column: 3;\n",
       "  text-align: right;\n",
       "  color: var(--xr-font-color2);\n",
       "}\n",
       "\n",
       ".xr-var-preview {\n",
       "  grid-column: 4;\n",
       "}\n",
       "\n",
       ".xr-index-preview {\n",
       "  grid-column: 2 / 5;\n",
       "  color: var(--xr-font-color2);\n",
       "}\n",
       "\n",
       ".xr-var-name,\n",
       ".xr-var-dims,\n",
       ".xr-var-dtype,\n",
       ".xr-preview,\n",
       ".xr-attrs dt {\n",
       "  white-space: nowrap;\n",
       "  overflow: hidden;\n",
       "  text-overflow: ellipsis;\n",
       "  padding-right: 10px;\n",
       "}\n",
       "\n",
       ".xr-var-name:hover,\n",
       ".xr-var-dims:hover,\n",
       ".xr-var-dtype:hover,\n",
       ".xr-attrs dt:hover {\n",
       "  overflow: visible;\n",
       "  width: auto;\n",
       "  z-index: 1;\n",
       "}\n",
       "\n",
       ".xr-var-attrs,\n",
       ".xr-var-data,\n",
       ".xr-index-data {\n",
       "  display: none;\n",
       "  background-color: var(--xr-background-color) !important;\n",
       "  padding-bottom: 5px !important;\n",
       "}\n",
       "\n",
       ".xr-var-attrs-in:checked ~ .xr-var-attrs,\n",
       ".xr-var-data-in:checked ~ .xr-var-data,\n",
       ".xr-index-data-in:checked ~ .xr-index-data {\n",
       "  display: block;\n",
       "}\n",
       "\n",
       ".xr-var-data > table {\n",
       "  float: right;\n",
       "}\n",
       "\n",
       ".xr-var-name span,\n",
       ".xr-var-data,\n",
       ".xr-index-name div,\n",
       ".xr-index-data,\n",
       ".xr-attrs {\n",
       "  padding-left: 25px !important;\n",
       "}\n",
       "\n",
       ".xr-attrs,\n",
       ".xr-var-attrs,\n",
       ".xr-var-data,\n",
       ".xr-index-data {\n",
       "  grid-column: 1 / -1;\n",
       "}\n",
       "\n",
       "dl.xr-attrs {\n",
       "  padding: 0;\n",
       "  margin: 0;\n",
       "  display: grid;\n",
       "  grid-template-columns: 125px auto;\n",
       "}\n",
       "\n",
       ".xr-attrs dt,\n",
       ".xr-attrs dd {\n",
       "  padding: 0;\n",
       "  margin: 0;\n",
       "  float: left;\n",
       "  padding-right: 10px;\n",
       "  width: auto;\n",
       "}\n",
       "\n",
       ".xr-attrs dt {\n",
       "  font-weight: normal;\n",
       "  grid-column: 1;\n",
       "}\n",
       "\n",
       ".xr-attrs dt:hover span {\n",
       "  display: inline-block;\n",
       "  background: var(--xr-background-color);\n",
       "  padding-right: 10px;\n",
       "}\n",
       "\n",
       ".xr-attrs dd {\n",
       "  grid-column: 2;\n",
       "  white-space: pre-wrap;\n",
       "  word-break: break-all;\n",
       "}\n",
       "\n",
       ".xr-icon-database,\n",
       ".xr-icon-file-text2,\n",
       ".xr-no-icon {\n",
       "  display: inline-block;\n",
       "  vertical-align: middle;\n",
       "  width: 1em;\n",
       "  height: 1.5em !important;\n",
       "  stroke-width: 0;\n",
       "  stroke: currentColor;\n",
       "  fill: currentColor;\n",
       "}\n",
       "</style><pre class='xr-text-repr-fallback'>&lt;xarray.DataArray (ensemble: 262, time: 36)&gt; Size: 75kB\n",
       "array([[2.97079232, 2.84397495, 2.78759165, ..., 2.86542295, 2.84834933,\n",
       "        2.8606689 ],\n",
       "       [2.77758944, 2.6298906 , 2.5623908 , ..., 2.62867675, 2.62747432,\n",
       "        2.6793577 ],\n",
       "       [2.8248447 , 2.76626935, 2.64262734, ..., 2.61055797, 2.63284318,\n",
       "        2.70759685],\n",
       "       ...,\n",
       "       [2.97272426, 2.86877428, 2.8109373 , ..., 2.78197559, 2.88427399,\n",
       "        2.92611469],\n",
       "       [2.73540902, 2.6221868 , 2.61259624, ..., 2.54535569, 2.56808885,\n",
       "        2.65106089],\n",
       "       [2.85745189, 2.70803104, 2.70693114, ..., 2.70940757, 2.73981294,\n",
       "        2.73857899]])\n",
       "Coordinates:\n",
       "  * ensemble  (ensemble) int64 2kB 0 1 2 3 4 5 6 ... 256 257 258 259 260 261 262\n",
       "  * time      (time) object 288B 0001-01-16 12:00:00 ... 0003-12-16 12:00:00</pre><div class='xr-wrap' style='display:none'><div class='xr-header'><div class='xr-obj-type'>xarray.DataArray</div><div class='xr-array-name'></div><ul class='xr-dim-list'><li><span class='xr-has-index'>ensemble</span>: 262</li><li><span class='xr-has-index'>time</span>: 36</li></ul></div><ul class='xr-sections'><li class='xr-section-item'><div class='xr-array-wrap'><input id='section-1fd49b79-e887-440e-b294-8708cd4eaa10' class='xr-array-in' type='checkbox' checked><label for='section-1fd49b79-e887-440e-b294-8708cd4eaa10' title='Show/hide data repr'><svg class='icon xr-icon-database'><use xlink:href='#icon-database'></use></svg></label><div class='xr-array-preview xr-preview'><span>2.971 2.844 2.788 2.823 2.94 3.022 ... 2.844 2.742 2.709 2.74 2.739</span></div><div class='xr-array-data'><pre>array([[2.97079232, 2.84397495, 2.78759165, ..., 2.86542295, 2.84834933,\n",
       "        2.8606689 ],\n",
       "       [2.77758944, 2.6298906 , 2.5623908 , ..., 2.62867675, 2.62747432,\n",
       "        2.6793577 ],\n",
       "       [2.8248447 , 2.76626935, 2.64262734, ..., 2.61055797, 2.63284318,\n",
       "        2.70759685],\n",
       "       ...,\n",
       "       [2.97272426, 2.86877428, 2.8109373 , ..., 2.78197559, 2.88427399,\n",
       "        2.92611469],\n",
       "       [2.73540902, 2.6221868 , 2.61259624, ..., 2.54535569, 2.56808885,\n",
       "        2.65106089],\n",
       "       [2.85745189, 2.70803104, 2.70693114, ..., 2.70940757, 2.73981294,\n",
       "        2.73857899]])</pre></div></div></li><li class='xr-section-item'><input id='section-43db9e7d-7349-47fc-b6a2-d826f4343b54' class='xr-section-summary-in' type='checkbox'  checked><label for='section-43db9e7d-7349-47fc-b6a2-d826f4343b54' class='xr-section-summary' >Coordinates: <span>(2)</span></label><div class='xr-section-inline-details'></div><div class='xr-section-details'><ul class='xr-var-list'><li class='xr-var-item'><div class='xr-var-name'><span class='xr-has-index'>ensemble</span></div><div class='xr-var-dims'>(ensemble)</div><div class='xr-var-dtype'>int64</div><div class='xr-var-preview xr-preview'>0 1 2 3 4 5 ... 258 259 260 261 262</div><input id='attrs-edacb4fc-a97a-4119-8e97-e2e2f9869cb6' class='xr-var-attrs-in' type='checkbox' disabled><label for='attrs-edacb4fc-a97a-4119-8e97-e2e2f9869cb6' title='Show/Hide attributes'><svg class='icon xr-icon-file-text2'><use xlink:href='#icon-file-text2'></use></svg></label><input id='data-f4ac8eba-4bea-49c8-88bc-5f6138b7445f' class='xr-var-data-in' type='checkbox'><label for='data-f4ac8eba-4bea-49c8-88bc-5f6138b7445f' title='Show/Hide data repr'><svg class='icon xr-icon-database'><use xlink:href='#icon-database'></use></svg></label><div class='xr-var-attrs'><dl class='xr-attrs'></dl></div><div class='xr-var-data'><pre>array([  0,   1,   2, ..., 260, 261, 262])</pre></div></li><li class='xr-var-item'><div class='xr-var-name'><span class='xr-has-index'>time</span></div><div class='xr-var-dims'>(time)</div><div class='xr-var-dtype'>object</div><div class='xr-var-preview xr-preview'>0001-01-16 12:00:00 ... 0003-12-...</div><input id='attrs-3dc60335-9bd3-49cf-af7d-0638d1f25271' class='xr-var-attrs-in' type='checkbox' disabled><label for='attrs-3dc60335-9bd3-49cf-af7d-0638d1f25271' title='Show/Hide attributes'><svg class='icon xr-icon-file-text2'><use xlink:href='#icon-file-text2'></use></svg></label><input id='data-6095641a-72e8-40b1-955c-fcd0f09cf6d4' class='xr-var-data-in' type='checkbox'><label for='data-6095641a-72e8-40b1-955c-fcd0f09cf6d4' title='Show/Hide data repr'><svg class='icon xr-icon-database'><use xlink:href='#icon-database'></use></svg></label><div class='xr-var-attrs'><dl class='xr-attrs'></dl></div><div class='xr-var-data'><pre>array([cftime.DatetimeNoLeap(1, 1, 16, 12, 0, 0, 0, has_year_zero=True),\n",
       "       cftime.DatetimeNoLeap(1, 2, 15, 0, 0, 0, 0, has_year_zero=True),\n",
       "       cftime.DatetimeNoLeap(1, 3, 16, 12, 0, 0, 0, has_year_zero=True),\n",
       "       cftime.DatetimeNoLeap(1, 4, 16, 0, 0, 0, 0, has_year_zero=True),\n",
       "       cftime.DatetimeNoLeap(1, 5, 16, 12, 0, 0, 0, has_year_zero=True),\n",
       "       cftime.DatetimeNoLeap(1, 6, 16, 0, 0, 0, 0, has_year_zero=True),\n",
       "       cftime.DatetimeNoLeap(1, 7, 16, 12, 0, 0, 0, has_year_zero=True),\n",
       "       cftime.DatetimeNoLeap(1, 8, 16, 12, 0, 0, 0, has_year_zero=True),\n",
       "       cftime.DatetimeNoLeap(1, 9, 16, 0, 0, 0, 0, has_year_zero=True),\n",
       "       cftime.DatetimeNoLeap(1, 10, 16, 12, 0, 0, 0, has_year_zero=True),\n",
       "       cftime.DatetimeNoLeap(1, 11, 16, 0, 0, 0, 0, has_year_zero=True),\n",
       "       cftime.DatetimeNoLeap(1, 12, 16, 12, 0, 0, 0, has_year_zero=True),\n",
       "       cftime.DatetimeNoLeap(2, 1, 16, 12, 0, 0, 0, has_year_zero=True),\n",
       "       cftime.DatetimeNoLeap(2, 2, 15, 0, 0, 0, 0, has_year_zero=True),\n",
       "       cftime.DatetimeNoLeap(2, 3, 16, 12, 0, 0, 0, has_year_zero=True),\n",
       "       cftime.DatetimeNoLeap(2, 4, 16, 0, 0, 0, 0, has_year_zero=True),\n",
       "       cftime.DatetimeNoLeap(2, 5, 16, 12, 0, 0, 0, has_year_zero=True),\n",
       "       cftime.DatetimeNoLeap(2, 6, 16, 0, 0, 0, 0, has_year_zero=True),\n",
       "       cftime.DatetimeNoLeap(2, 7, 16, 12, 0, 0, 0, has_year_zero=True),\n",
       "       cftime.DatetimeNoLeap(2, 8, 16, 12, 0, 0, 0, has_year_zero=True),\n",
       "       cftime.DatetimeNoLeap(2, 9, 16, 0, 0, 0, 0, has_year_zero=True),\n",
       "       cftime.DatetimeNoLeap(2, 10, 16, 12, 0, 0, 0, has_year_zero=True),\n",
       "       cftime.DatetimeNoLeap(2, 11, 16, 0, 0, 0, 0, has_year_zero=True),\n",
       "       cftime.DatetimeNoLeap(2, 12, 16, 12, 0, 0, 0, has_year_zero=True),\n",
       "       cftime.DatetimeNoLeap(3, 1, 16, 12, 0, 0, 0, has_year_zero=True),\n",
       "       cftime.DatetimeNoLeap(3, 2, 15, 0, 0, 0, 0, has_year_zero=True),\n",
       "       cftime.DatetimeNoLeap(3, 3, 16, 12, 0, 0, 0, has_year_zero=True),\n",
       "       cftime.DatetimeNoLeap(3, 4, 16, 0, 0, 0, 0, has_year_zero=True),\n",
       "       cftime.DatetimeNoLeap(3, 5, 16, 12, 0, 0, 0, has_year_zero=True),\n",
       "       cftime.DatetimeNoLeap(3, 6, 16, 0, 0, 0, 0, has_year_zero=True),\n",
       "       cftime.DatetimeNoLeap(3, 7, 16, 12, 0, 0, 0, has_year_zero=True),\n",
       "       cftime.DatetimeNoLeap(3, 8, 16, 12, 0, 0, 0, has_year_zero=True),\n",
       "       cftime.DatetimeNoLeap(3, 9, 16, 0, 0, 0, 0, has_year_zero=True),\n",
       "       cftime.DatetimeNoLeap(3, 10, 16, 12, 0, 0, 0, has_year_zero=True),\n",
       "       cftime.DatetimeNoLeap(3, 11, 16, 0, 0, 0, 0, has_year_zero=True),\n",
       "       cftime.DatetimeNoLeap(3, 12, 16, 12, 0, 0, 0, has_year_zero=True)],\n",
       "      dtype=object)</pre></div></li></ul></div></li><li class='xr-section-item'><input id='section-fe8b13ba-da6c-41d6-ae0f-5dc776654945' class='xr-section-summary-in' type='checkbox'  ><label for='section-fe8b13ba-da6c-41d6-ae0f-5dc776654945' class='xr-section-summary' >Indexes: <span>(2)</span></label><div class='xr-section-inline-details'></div><div class='xr-section-details'><ul class='xr-var-list'><li class='xr-var-item'><div class='xr-index-name'><div>ensemble</div></div><div class='xr-index-preview'>PandasIndex</div><div></div><input id='index-898b3ad9-fad6-469e-a7e5-bb56e98d6df4' class='xr-index-data-in' type='checkbox'/><label for='index-898b3ad9-fad6-469e-a7e5-bb56e98d6df4' title='Show/Hide index repr'><svg class='icon xr-icon-database'><use xlink:href='#icon-database'></use></svg></label><div class='xr-index-data'><pre>PandasIndex(Index([  0,   1,   2,   3,   4,   5,   6,   7,   8,   9,\n",
       "       ...\n",
       "       253, 254, 255, 256, 257, 258, 259, 260, 261, 262],\n",
       "      dtype=&#x27;int64&#x27;, name=&#x27;ensemble&#x27;, length=262))</pre></div></li><li class='xr-var-item'><div class='xr-index-name'><div>time</div></div><div class='xr-index-preview'>PandasIndex</div><div></div><input id='index-879732bd-a2b5-4dd8-a401-884c77d2f4e3' class='xr-index-data-in' type='checkbox'/><label for='index-879732bd-a2b5-4dd8-a401-884c77d2f4e3' title='Show/Hide index repr'><svg class='icon xr-icon-database'><use xlink:href='#icon-database'></use></svg></label><div class='xr-index-data'><pre>PandasIndex(CFTimeIndex([0001-01-16 12:00:00, 0001-02-15 00:00:00, 0001-03-16 12:00:00,\n",
       "             0001-04-16 00:00:00, 0001-05-16 12:00:00, 0001-06-16 00:00:00,\n",
       "             0001-07-16 12:00:00, 0001-08-16 12:00:00, 0001-09-16 00:00:00,\n",
       "             0001-10-16 12:00:00, 0001-11-16 00:00:00, 0001-12-16 12:00:00,\n",
       "             0002-01-16 12:00:00, 0002-02-15 00:00:00, 0002-03-16 12:00:00,\n",
       "             0002-04-16 00:00:00, 0002-05-16 12:00:00, 0002-06-16 00:00:00,\n",
       "             0002-07-16 12:00:00, 0002-08-16 12:00:00, 0002-09-16 00:00:00,\n",
       "             0002-10-16 12:00:00, 0002-11-16 00:00:00, 0002-12-16 12:00:00,\n",
       "             0003-01-16 12:00:00, 0003-02-15 00:00:00, 0003-03-16 12:00:00,\n",
       "             0003-04-16 00:00:00, 0003-05-16 12:00:00, 0003-06-16 00:00:00,\n",
       "             0003-07-16 12:00:00, 0003-08-16 12:00:00, 0003-09-16 00:00:00,\n",
       "             0003-10-16 12:00:00, 0003-11-16 00:00:00, 0003-12-16 12:00:00],\n",
       "            dtype=&#x27;object&#x27;, length=36, calendar=&#x27;noleap&#x27;, freq=None))</pre></div></li></ul></div></li><li class='xr-section-item'><input id='section-4a0ca862-db6f-455f-aff2-ec3e5c4295e0' class='xr-section-summary-in' type='checkbox' disabled ><label for='section-4a0ca862-db6f-455f-aff2-ec3e5c4295e0' class='xr-section-summary'  title='Expand/collapse section'>Attributes: <span>(0)</span></label><div class='xr-section-inline-details'></div><div class='xr-section-details'><dl class='xr-attrs'></dl></div></li></ul></div></div>"
      ],
      "text/plain": [
       "<xarray.DataArray (ensemble: 262, time: 36)> Size: 75kB\n",
       "array([[2.97079232, 2.84397495, 2.78759165, ..., 2.86542295, 2.84834933,\n",
       "        2.8606689 ],\n",
       "       [2.77758944, 2.6298906 , 2.5623908 , ..., 2.62867675, 2.62747432,\n",
       "        2.6793577 ],\n",
       "       [2.8248447 , 2.76626935, 2.64262734, ..., 2.61055797, 2.63284318,\n",
       "        2.70759685],\n",
       "       ...,\n",
       "       [2.97272426, 2.86877428, 2.8109373 , ..., 2.78197559, 2.88427399,\n",
       "        2.92611469],\n",
       "       [2.73540902, 2.6221868 , 2.61259624, ..., 2.54535569, 2.56808885,\n",
       "        2.65106089],\n",
       "       [2.85745189, 2.70803104, 2.70693114, ..., 2.70940757, 2.73981294,\n",
       "        2.73857899]])\n",
       "Coordinates:\n",
       "  * ensemble  (ensemble) int64 2kB 0 1 2 3 4 5 6 ... 256 257 258 259 260 261 262\n",
       "  * time      (time) object 288B 0001-01-16 12:00:00 ... 0003-12-16 12:00:00"
      ]
     },
     "execution_count": 12,
     "metadata": {},
     "output_type": "execute_result"
    }
   ],
   "source": [
    "glob_mean_prect"
   ]
  },
  {
   "cell_type": "code",
   "execution_count": 47,
   "id": "ff0c9ae5-6916-4bb1-aafe-34470f3472a9",
   "metadata": {},
   "outputs": [
    {
     "data": {
      "text/plain": [
       "<bound method Mapping.values of <xarray.Dataset> Size: 78kB\n",
       "Dimensions:   (ensemble: 262, time: 36)\n",
       "Coordinates:\n",
       "  * ensemble  (ensemble) int64 2kB 0 1 2 3 4 5 6 ... 256 257 258 259 260 261 262\n",
       "  * time      (time) object 288B 0001-01-16 12:00:00 ... 0003-12-16 12:00:00\n",
       "Data variables:\n",
       "    PRECC     (ensemble, time) float64 75kB ...>"
      ]
     },
     "execution_count": 47,
     "metadata": {},
     "output_type": "execute_result"
    }
   ],
   "source": [
    "glob_mean_precc.values"
   ]
  },
  {
   "cell_type": "code",
   "execution_count": 13,
   "id": "1c1e092b-18a5-4e39-aabf-ff28fe864ada",
   "metadata": {},
   "outputs": [],
   "source": [
    "train_prect = glob_mean_prect.values[train_indx, ]\n",
    "test_prect = glob_mean_prect[test_indx, ]"
   ]
  },
  {
   "cell_type": "code",
   "execution_count": 14,
   "id": "d4ce138f-c2be-4a49-b3dc-3ea25346b9a7",
   "metadata": {},
   "outputs": [],
   "source": [
    "train_prect_rav = np.ravel(train_prect)\n",
    "test_prect_rav = np.ravel(test_prect)"
   ]
  },
  {
   "cell_type": "code",
   "execution_count": 15,
   "id": "a57dc68a-a9c6-45c7-86ff-75e8c3c6cd3c",
   "metadata": {},
   "outputs": [],
   "source": [
    "train_ens_rep = np.repeat(train_ens, repeats=36)\n",
    "test_ens_rep = np.repeat(test_ens, repeats = 36)"
   ]
  },
  {
   "cell_type": "code",
   "execution_count": 16,
   "id": "9df31796-58f5-4e26-99f0-d300e1049108",
   "metadata": {},
   "outputs": [],
   "source": [
    "class ParamDataset(Dataset):\n",
    "    def __init__(self, target_y, ens_labels, param_df):\n",
    "        self.y = target_y\n",
    "        self.ensemble = ens_labels\n",
    "        self.param_df = param_df\n",
    "    \n",
    "    def __len__(self):\n",
    "        return(len(self.y))\n",
    "\n",
    "    def __getitem__(self, idx):\n",
    "        target = self.y[idx]\n",
    "        ens = self.ensemble[idx]\n",
    "        params = self.param_df.loc[ens].values\n",
    "\n",
    "        return params, target"
   ]
  },
  {
   "cell_type": "code",
   "execution_count": 17,
   "id": "b7c73de7-5412-4b2d-9dbf-6916d3ea8737",
   "metadata": {},
   "outputs": [],
   "source": [
    "train_dataset = ParamDataset(train_prect_rav, train_ens_rep, param_df)\n",
    "train_loader = DataLoader(train_dataset, batch_size=64, shuffle=True)"
   ]
  },
  {
   "cell_type": "code",
   "execution_count": 18,
   "id": "28133049-cf06-4ac4-b44e-38a708f7116c",
   "metadata": {},
   "outputs": [],
   "source": [
    "device='cpu'"
   ]
  },
  {
   "cell_type": "code",
   "execution_count": 19,
   "id": "964535a3-24f9-4cd5-85d7-958b163c8cd6",
   "metadata": {},
   "outputs": [
    {
     "name": "stdout",
     "output_type": "stream",
     "text": [
      "NeuralNetwork(\n",
      "  (linear_relu_stack): Sequential(\n",
      "    (0): Linear(in_features=45, out_features=30, bias=True)\n",
      "    (1): ReLU()\n",
      "    (2): Linear(in_features=30, out_features=1, bias=True)\n",
      "  )\n",
      ")\n"
     ]
    }
   ],
   "source": [
    "class NeuralNetwork(nn.Module):\n",
    "    def __init__(self):\n",
    "        super().__init__()\n",
    "        self.linear_relu_stack = nn.Sequential(\n",
    "            nn.Linear(45, 30),\n",
    "            nn.ReLU(),\n",
    "            nn.Linear(30, 1)\n",
    "        )\n",
    "        self.double()\n",
    "\n",
    "    def forward(self, x):\n",
    "        preds = self.linear_relu_stack(x)\n",
    "        return preds\n",
    "\n",
    "model = NeuralNetwork().to(device)\n",
    "print(model)"
   ]
  },
  {
   "cell_type": "code",
   "execution_count": 20,
   "id": "2567a982-af3c-40be-b4b0-d023936e63fb",
   "metadata": {},
   "outputs": [],
   "source": [
    "#https://github.com/Javicadserres/wind-production-forecast/blob/main/src/model/losses.py\n",
    "\n",
    "class QuantileLoss(nn.Module):\n",
    "    \"\"\"\n",
    "    Calculates the quantile loss function.\n",
    "\n",
    "    Attributes\n",
    "    ----------\n",
    "    self.pred : torch.tensor\n",
    "        Predictions.\n",
    "    self.target : torch.tensor\n",
    "        Target to predict.\n",
    "    self.quantiles : torch.tensor\n",
    "    \"\"\"\n",
    "    def __init__(self, quantile):\n",
    "        super(QuantileLoss, self).__init__()\n",
    "        self.pred = None\n",
    "        self.targes = None\n",
    "        self.quantile = quantile\n",
    "        \n",
    "    def forward(self, pred, target):\n",
    "        \"\"\"\n",
    "        Computes the loss for the given prediction.\n",
    "        \"\"\"\n",
    "        error = target - pred\n",
    "        over =  self.quantile * error\n",
    "        under = (1 - self.quantile) * -error \n",
    "\n",
    "        losses = torch.max(over, torch.tensor(0)) + torch.max(under, torch.tensor(0))\n",
    "        loss = torch.mean((losses))\n",
    "        return loss"
   ]
  },
  {
   "cell_type": "code",
   "execution_count": 21,
   "id": "a9fd88e8-f117-4224-ad65-a27bb72950b0",
   "metadata": {},
   "outputs": [],
   "source": [
    "loss_fn = QuantileLoss(0.9)\n",
    "optimizer = optim.Adam(model.parameters(), lr=1e-3, weight_decay=1e-4)"
   ]
  },
  {
   "cell_type": "code",
   "execution_count": 22,
   "id": "cdd2542b-299f-48dd-8f96-679b46fc59ea",
   "metadata": {},
   "outputs": [],
   "source": [
    "def train(dataloader, model, loss_fn, optimizer):\n",
    "    size = len(dataloader.dataset)\n",
    "    model.train()\n",
    "    for batch, (X, y) in enumerate(dataloader):\n",
    "        X, y = X.to(device), y.to(device)\n",
    "\n",
    "        # Compute prediction error\n",
    "        pred = model(X)\n",
    "        loss = loss_fn(pred.squeeze(), y)\n",
    "\n",
    "        # Backpropagation\n",
    "        loss.backward()\n",
    "        optimizer.step()\n",
    "        optimizer.zero_grad()\n",
    "\n",
    "        loss, current = loss.item(), (batch + 1) * len(X)"
   ]
  },
  {
   "cell_type": "code",
   "execution_count": 23,
   "id": "61c7508f-0519-4633-bc2a-0cf7e47322f4",
   "metadata": {},
   "outputs": [
    {
     "name": "stdout",
     "output_type": "stream",
     "text": [
      "Epoch 1\n",
      "-------------------------------\n",
      "Epoch 21\n",
      "-------------------------------\n",
      "Epoch 41\n",
      "-------------------------------\n",
      "Epoch 61\n",
      "-------------------------------\n",
      "Epoch 81\n",
      "-------------------------------\n",
      "Epoch 101\n",
      "-------------------------------\n",
      "Epoch 121\n",
      "-------------------------------\n",
      "Epoch 141\n",
      "-------------------------------\n",
      "Epoch 161\n",
      "-------------------------------\n",
      "Epoch 181\n",
      "-------------------------------\n",
      "Epoch 201\n",
      "-------------------------------\n",
      "Epoch 221\n",
      "-------------------------------\n",
      "Epoch 241\n",
      "-------------------------------\n",
      "Epoch 261\n",
      "-------------------------------\n",
      "Epoch 281\n",
      "-------------------------------\n",
      "Epoch 301\n",
      "-------------------------------\n",
      "Epoch 321\n",
      "-------------------------------\n",
      "Epoch 341\n",
      "-------------------------------\n",
      "Epoch 361\n",
      "-------------------------------\n",
      "Epoch 381\n",
      "-------------------------------\n",
      "Epoch 401\n",
      "-------------------------------\n",
      "Epoch 421\n",
      "-------------------------------\n",
      "Epoch 441\n",
      "-------------------------------\n",
      "Epoch 461\n",
      "-------------------------------\n",
      "Epoch 481\n",
      "-------------------------------\n",
      "Done!\n"
     ]
    }
   ],
   "source": [
    "epochs = 500\n",
    "for t in range(epochs):\n",
    "    if t % 20 == 0:\n",
    "        print(f\"Epoch {t+1}\\n-------------------------------\")\n",
    "    train(train_loader, model, loss_fn, optimizer)\n",
    "print(\"Done!\")"
   ]
  },
  {
   "cell_type": "code",
   "execution_count": 24,
   "id": "9312d1e2-f8e6-415a-815c-6ad570e8a646",
   "metadata": {},
   "outputs": [],
   "source": [
    "with torch.no_grad():\n",
    "    test_out = model(torch.tensor(param_df.loc[test_ens].to_numpy()))"
   ]
  },
  {
   "cell_type": "code",
   "execution_count": 25,
   "id": "c89e4023-4b17-42fe-9cd0-0cb5dd111174",
   "metadata": {},
   "outputs": [],
   "source": [
    "test_params = param_df.loc[test_ens].to_numpy()\n",
    "test_params_reps = np.repeat(test_params, repeats=36, axis=0)"
   ]
  },
  {
   "cell_type": "code",
   "execution_count": 26,
   "id": "29936e9a-df33-406c-bf8f-fbc0d4f483bc",
   "metadata": {},
   "outputs": [],
   "source": [
    "with torch.no_grad():\n",
    "    test_out_long = model(torch.tensor(test_params_reps))"
   ]
  },
  {
   "cell_type": "code",
   "execution_count": 27,
   "id": "ff9c2eb6-a8df-408c-8878-dbb74df3a989",
   "metadata": {
    "scrolled": true
   },
   "outputs": [
    {
     "data": {
      "text/plain": [
       "array([[3.03748046],\n",
       "       [2.69990771],\n",
       "       [2.8249738 ],\n",
       "       [2.77998588],\n",
       "       [2.76711808],\n",
       "       [3.03958032],\n",
       "       [3.10060943],\n",
       "       [2.75009127],\n",
       "       [2.89332508],\n",
       "       [2.7400743 ],\n",
       "       [2.74469977],\n",
       "       [2.73875599],\n",
       "       [2.95985257],\n",
       "       [2.78387601],\n",
       "       [2.94990865],\n",
       "       [2.95372843],\n",
       "       [3.03205682],\n",
       "       [2.86432914],\n",
       "       [2.74956111],\n",
       "       [2.81027373],\n",
       "       [3.02487856],\n",
       "       [3.10340434],\n",
       "       [2.81742625],\n",
       "       [2.95383796],\n",
       "       [2.63095737],\n",
       "       [2.98542524],\n",
       "       [3.08623777],\n",
       "       [2.90149322],\n",
       "       [3.21665178],\n",
       "       [2.69819812],\n",
       "       [2.84261305],\n",
       "       [2.81135111],\n",
       "       [2.71690531],\n",
       "       [2.92999529],\n",
       "       [3.1045485 ],\n",
       "       [2.77837114],\n",
       "       [2.87266182],\n",
       "       [2.89438759],\n",
       "       [2.77621678],\n",
       "       [2.83514261],\n",
       "       [2.78011042],\n",
       "       [2.70577112],\n",
       "       [2.73518268],\n",
       "       [2.77157846],\n",
       "       [2.94812244],\n",
       "       [2.91524198],\n",
       "       [2.95079097],\n",
       "       [3.1327845 ],\n",
       "       [2.84904406],\n",
       "       [2.82897605],\n",
       "       [3.12390202],\n",
       "       [3.12065035]])"
      ]
     },
     "execution_count": 27,
     "metadata": {},
     "output_type": "execute_result"
    }
   ],
   "source": [
    "test_out.numpy()"
   ]
  },
  {
   "cell_type": "code",
   "execution_count": 29,
   "id": "022c64b6-ca2d-4b10-93b3-6d1d7c649a40",
   "metadata": {},
   "outputs": [
    {
     "data": {
      "text/plain": [
       "array([[1.        , 0.68319008],\n",
       "       [0.68319008, 1.        ]])"
      ]
     },
     "execution_count": 29,
     "metadata": {},
     "output_type": "execute_result"
    }
   ],
   "source": [
    "np.corrcoef(test_out.numpy().reshape(52),\n",
    "            np.quantile(glob_mean_prect.values[test_indx], 0.9, axis=1))"
   ]
  },
  {
   "cell_type": "code",
   "execution_count": 32,
   "id": "e4ac7e25-2332-4069-8b2b-9cdd9c257cc9",
   "metadata": {},
   "outputs": [],
   "source": [
    "pred_act_corr = np.corrcoef(test_out.numpy().reshape(52),\n",
    "                            np.quantile(glob_mean_prect.values[test_indx], 0.9, axis=1))[0, 1]"
   ]
  },
  {
   "cell_type": "code",
   "execution_count": 33,
   "id": "0be56c18-ae8d-407a-8806-cf94ee3a77db",
   "metadata": {},
   "outputs": [
    {
     "data": {
      "text/plain": [
       "0.4667486875055919"
      ]
     },
     "execution_count": 33,
     "metadata": {},
     "output_type": "execute_result"
    }
   ],
   "source": [
    "pred_act_corr**2"
   ]
  },
  {
   "cell_type": "code",
   "execution_count": 34,
   "id": "1aa87f66-ed8e-4f0e-80e1-3104f33620e6",
   "metadata": {},
   "outputs": [],
   "source": [
    "test_loss = loss_fn(test_out_long.squeeze(), torch.tensor(test_prect_rav))"
   ]
  },
  {
   "cell_type": "code",
   "execution_count": 35,
   "id": "7559b9b4-94d6-485a-b907-dd0241bd35b0",
   "metadata": {},
   "outputs": [
    {
     "data": {
      "text/plain": [
       "tensor(0.0256, dtype=torch.float64)"
      ]
     },
     "execution_count": 35,
     "metadata": {},
     "output_type": "execute_result"
    }
   ],
   "source": [
    "test_loss"
   ]
  },
  {
   "cell_type": "code",
   "execution_count": 36,
   "id": "91ffc721-2329-4730-b2ba-2d51d62284e1",
   "metadata": {},
   "outputs": [],
   "source": [
    "mse_quants = np.mean((np.quantile(glob_mean_prect.values[test_indx], 0.9, axis=1) - test_out.squeeze().numpy())**2)"
   ]
  },
  {
   "cell_type": "code",
   "execution_count": 37,
   "id": "3f0f1b77-605a-4c99-a5e4-a462bceefe66",
   "metadata": {},
   "outputs": [
    {
     "data": {
      "text/plain": [
       "0.015351080818295419"
      ]
     },
     "execution_count": 37,
     "metadata": {},
     "output_type": "execute_result"
    }
   ],
   "source": [
    "mse_quants"
   ]
  },
  {
   "cell_type": "code",
   "execution_count": 39,
   "id": "ca0a21f3-696c-4997-93bf-a9b95592837f",
   "metadata": {},
   "outputs": [
    {
     "data": {
      "text/plain": [
       "0.12389947868451835"
      ]
     },
     "execution_count": 39,
     "metadata": {},
     "output_type": "execute_result"
    }
   ],
   "source": [
    "np.sqrt(np.mean((np.quantile(glob_mean_prect.values[test_indx], 0.9, axis=1) - test_out.squeeze().numpy())**2))"
   ]
  },
  {
   "cell_type": "code",
   "execution_count": 44,
   "id": "0d70a4d8-4334-46b5-82c4-6d78f8046b18",
   "metadata": {},
   "outputs": [
    {
     "data": {
      "image/png": "[encoded data removed]",
      "text/plain": [
       "<Figure size 640x480 with 1 Axes>"
      ]
     },
     "metadata": {},
     "output_type": "display_data"
    }
   ],
   "source": [
    "plt.scatter(np.quantile(glob_mean_prect.values[test_indx], 0.9, axis=1),\n",
    "            (test_out.numpy().reshape(52)))\n",
    "plt.xlim([2, 3.5])\n",
    "plt.ylim([2, 3.5])\n",
    "plt.xlabel('observed 0.9 quantile (mm/day)', size=12)\n",
    "plt.ylabel('predicted 0.9 quantile (mm/day)', size=12)\n",
    "plt.text(x=2.1, y=3.4, s=f'Mean Quantile Loss: {test_loss:.4f}', color='red', size=15)\n",
    "plt.text(x=2.1, y=3.3, s=f'MSE of Quant. Preds.: {mse_quants:.3f}', color='red', size=15)\n",
    "plt.text(x=2.1, y=3.2, s=f'Corr.: {pred_act_corr:.4f}', color='red', size=15)\n",
    "plt.axline(xy1=(0,0),slope=1, linestyle='--', color='red')\n",
    "plt.title('test set predicted vs. actual: global mean total precip.')\n",
    "plt.savefig('glob_nn_pred_vs_test_wd_prect.png')"
   ]
  },
  {
   "cell_type": "code",
   "execution_count": 102,
   "id": "5fe0c9ec-0324-49c1-b4ca-5caa8f58a3f2",
   "metadata": {},
   "outputs": [
    {
     "data": {
      "text/plain": [
       "array([1.07503997, 1.43525289, 1.46281423, 1.98155924, 1.109492  ,\n",
       "       1.85728471, 1.50438853, 1.78447746, 0.53674496, 1.18753188,\n",
       "       1.13265049, 1.27570834, 1.19803844, 1.91950971, 0.92073601,\n",
       "       1.42923738, 0.96549647, 0.95407808, 0.62926612, 1.70315513,\n",
       "       1.74652935, 1.95672312, 1.65175191, 1.53599245, 0.76803278,\n",
       "       2.03980465, 1.16691753, 2.08888628, 1.75073655, 1.40423827,\n",
       "       1.34456678, 1.63747388, 0.85767918, 0.62313868, 1.64970165,\n",
       "       1.79473795, 1.40991437, 1.37247807, 1.73002995, 1.84898897,\n",
       "       0.9407487 , 1.53369881, 1.77425802, 1.58705453, 0.99290765,\n",
       "       1.19157865, 1.42321742, 0.66501307, 1.52924539, 1.76996912,\n",
       "       1.47397003, 1.22478588])"
      ]
     },
     "execution_count": 102,
     "metadata": {},
     "output_type": "execute_result"
    }
   ],
   "source": [
    "test_out.squeeze().numpy()"
   ]
  },
  {
   "cell_type": "code",
   "execution_count": 99,
   "id": "68ff0ca4-2518-45f4-b011-6207eed0ac61",
   "metadata": {},
   "outputs": [
    {
     "data": {
      "text/plain": [
       "(52,)"
      ]
     },
     "execution_count": 99,
     "metadata": {},
     "output_type": "execute_result"
    }
   ],
   "source": [
    "np.quantile(glob_mean_precl['PRECL'].values[test_indx], 0.9, axis=1).shape"
   ]
  }
 ],
 "metadata": {
  "kernelspec": {
   "display_name": "Python 3 (ipykernel)",
   "language": "python",
   "name": "python3"
  },
  "language_info": {
   "codemirror_mode": {
    "name": "ipython",
    "version": 3
   },
   "file_extension": ".py",
   "mimetype": "text/x-python",
   "name": "python",
   "nbconvert_exporter": "python",
   "pygments_lexer": "ipython3",
   "version": "3.12.4"
  }
 },
 "nbformat": 4,
 "nbformat_minor": 5
}
